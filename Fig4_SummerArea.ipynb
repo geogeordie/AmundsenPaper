{
 "cells": [
  {
   "cell_type": "code",
   "execution_count": null,
   "metadata": {},
   "outputs": [],
   "source": [
    "import pandas as pd\n",
    "from datetime import date, timedelta\n",
    "import matplotlib.pyplot as plt\n",
    "import numpy as np\n",
    "import datetime\n",
    "\n",
    "#Polynya area as defined in paper\n",
    "b = pd.read_csv('.txt', delimiter = \",\")#Path to text file of year/daily summer polynya area\n",
    "b = b.to_numpy()\n",
    "\n",
    "\n",
    "y2016_17 = b[0:151,1] \n",
    "y2017_18 = b[0:151,2]\n",
    "y2018_19 = b[0:151,3]\n",
    "y2019_20 = b[0:151,4]\n",
    "y2020_21 = b[0:151,5]\n",
    "mean = np.nanmean([y2016_17,y2017_18,y2018_19,y2019_20,y2020_21], axis=0)\n",
    "\n",
    "\n",
    "sdate = date(2018,11,1)   # start date\n",
    "edate = date(2019,4,1) #Up to not including so include day after. Year here is arbitrary since plotting all years on one axis\n",
    "day= pd.date_range(sdate,edate-timedelta(days=1),freq='d')\n",
    "#figure(figsize=(8, 6), dpi=80)\n",
    "\n",
    "fig = plt.figure(figsize=(13, 7), dpi=80)\n",
    "ax = plt.axes()\n",
    "ax.plot(day,y2016_17,label='2016/17')\n",
    "ax.plot(day,y2017_18,label='2017/18')\n",
    "ax.plot(day,y2018_19,label='2018/19')\n",
    "ax.plot(day,y2019_20,label='2019/20')\n",
    "ax.plot(day,y2020_21,label='2020/21')\n",
    "ax.plot(day,mean,'k--',label='Mean')\n",
    "\n",
    "\n",
    "\n",
    "import matplotlib.dates as mdates\n",
    "\n",
    "ax.xaxis.set_major_formatter(mdates.DateFormatter(\"%b-%d\"))#Change this  xaciss format\n",
    "ax.set_ylim(ymin=0,ymax=70000)\n",
    "#ax.set_xlim(xmin=day[305],xmax=day[90])#day[0] is first day of\n",
    "ax.set_xlim([datetime.date(2018, 11, 1), datetime.date(2019, 4, 1)])\n",
    "\n",
    "\n",
    "plt.xlabel('Date')\n",
    "plt.ylabel('Polynya Area ($km^2$)')\n",
    "plt.legend(frameon=False)\n",
    "fig.savefig('.jpg') #Path to save graph"
   ]
  }
 ],
 "metadata": {
  "kernelspec": {
   "display_name": "Python [conda env:my_env]",
   "language": "python",
   "name": "conda-env-my_env-py"
  },
  "language_info": {
   "codemirror_mode": {
    "name": "ipython",
    "version": 3
   },
   "file_extension": ".py",
   "mimetype": "text/x-python",
   "name": "python",
   "nbconvert_exporter": "python",
   "pygments_lexer": "ipython3",
   "version": "3.7.7"
  }
 },
 "nbformat": 4,
 "nbformat_minor": 4
}
