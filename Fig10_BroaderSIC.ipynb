{
 "cells": [
  {
   "cell_type": "code",
   "execution_count": 54,
   "metadata": {},
   "outputs": [],
   "source": [
    "import os, fnmatch\n",
    "import numpy as np\n",
    "from PIL import Image\n",
    "import csv\n",
    "import matplotlib.pyplot as plt\n",
    "import matplotlib as mpl\n",
    "\n",
    "path = '/Users/gjmacdonald/Documents/Sea Ice Project/BroaderSIC/ClippedNov2016_2021/'\n",
    "outpath = '/Users/gjmacdonald/Documents/Sea Ice Project/BroaderSIC/MonthlyMean/'\n",
    "\n",
    "file_list2 = [x for x in sorted([x for x in os.listdir(path)])]#need to change this path to the actual path?\n",
    "thing = '.DS_Store' #Hidden file that occurs. \n",
    "while thing in file_list2: file_list2.remove(thing)\n",
    "#thing2 = '2020_SIC_PolynyaArea.csv' #Need to remove if created\n",
    "#while thing2 in file_list2: file_list2.remove(thing2)\n",
    "    \n",
    "days = np.arange(0,1606)\n",
    "#for i in range(len(a))\n",
    "\n",
    "\n",
    "#MatplotlibDeprecationWarning: You are modifying the state of a globally registered colormap. In future versions, you will not be able to modify a registered colormap in-place. To remove this warning, you can make a copy of the colormap first. cmap = copy.copy(mpl.cm.get_cmap(\"Blues_r\"))\n",
    "#This is separate from the ipykernel package so we can avoid doing imports until"
   ]
  },
  {
   "cell_type": "code",
   "execution_count": 56,
   "metadata": {},
   "outputs": [
    {
     "name": "stdout",
     "output_type": "stream",
     "text": [
      "1975920.5774193548\n"
     ]
    },
    {
     "name": "stderr",
     "output_type": "stream",
     "text": [
      "/Users/gjmacdonald/opt/anaconda3/envs/my_env/lib/python3.7/site-packages/ipykernel_launcher.py:24: MatplotlibDeprecationWarning: You are modifying the state of a globally registered colormap. In future versions, you will not be able to modify a registered colormap in-place. To remove this warning, you can make a copy of the colormap first. cmap = copy.copy(mpl.cm.get_cmap(\"Blues_r\"))\n"
     ]
    }
   ],
   "source": [
    "## JANUARY\n",
    "\n",
    "month = np.zeros(shape=(261,498))\n",
    "count = 0\n",
    "\n",
    "for k in days: #range(len(days)):\n",
    "    if file_list2[k][35:37] == '01': #35 to 37 is where the month is in filename\n",
    "        count += 1\n",
    "        #print(count)\n",
    "        #print ('This is November')\n",
    "        #print(file_list2[k])\n",
    "        #print(k)\n",
    "        image = Image.open(path + file_list2[(days[k])]) #Cycles through file list. 0-1 because index starts at 0 \n",
    "        Y = np.array(image)\n",
    "        Y = Y.astype(\"float\") #Necessary to convert to Nan\n",
    "        Y[Y == 255] = np.nan #Convert nodata to NaN\n",
    "        Z = Y/2 \n",
    "        month += Z\n",
    "        #image = Image.open(path + file_list2[(days[k])]) #Cycles through file list. 0-1 because index starts at 0\n",
    "Mean = month/count\n",
    "print(np.nansum(Mean))\n",
    "plt.figure(figsize=(10,10), dpi= 300)\n",
    "cmap = mpl.cm.Blues_r\n",
    "cmap.set_bad('black',1.)#This and above line necessary for setting nans to black. Not sure what the 1. is. Can include colormap in main plot line otherwise\n",
    "plt.imshow(Mean, interpolation='none',vmin=0, cmap=cmap, vmax=100) #vmin=70, vmax=100 # cmap='Blues_r',\n",
    "plt.colorbar()\n",
    "#plt.title('SIC '+file_list2[k][31:39]); #K-1 because of indexing starting at 0. Otherwise titles from 2nd date\n",
    "plt.title('January')\n",
    "plt.axis('off')\n",
    "\n",
    "\n",
    "#plt.savefig(outpath+'MonthSIC_January'+'.jpg')#The -4 omits the tif part from file name for jpeg\n",
    "plt.close() #try to stop printing all in notebook\n",
    "\n"
   ]
  },
  {
   "cell_type": "code",
   "execution_count": 41,
   "metadata": {},
   "outputs": [
    {
     "name": "stderr",
     "output_type": "stream",
     "text": [
      "/Users/gjmacdonald/opt/anaconda3/envs/my_env/lib/python3.7/site-packages/ipykernel_launcher.py:22: MatplotlibDeprecationWarning: You are modifying the state of a globally registered colormap. In future versions, you will not be able to modify a registered colormap in-place. To remove this warning, you can make a copy of the colormap first. cmap = copy.copy(mpl.cm.get_cmap(\"Blues_r\"))\n"
     ]
    }
   ],
   "source": [
    "month = np.zeros(shape=(261,498))\n",
    "count = 0\n",
    "\n",
    "for k in days: #range(len(days)):\n",
    "    if file_list2[k][35:37] == '02': #35 to 37 is where the month is in filename\n",
    "        count += 1\n",
    "        #print(count)\n",
    "        #print ('This is November')\n",
    "        #print(file_list2[k])\n",
    "        #print(k)\n",
    "        image = Image.open(path + file_list2[(days[k])]) #Cycles through file list. 0-1 because index starts at 0 \n",
    "        Y = np.array(image)\n",
    "        Y = Y.astype(\"float\") #Necessary to convert to Nan\n",
    "        Y[Y == 255] = np.nan #Convert nodata to NaN\n",
    "        Z = Y/2 \n",
    "        month += Z\n",
    "        #image = Image.open(path + file_list2[(days[k])]) #Cycles through file list. 0-1 because index starts at 0\n",
    "Mean = month/count\n",
    "\n",
    "plt.figure(figsize=(10,10), dpi= 300)\n",
    "cmap = mpl.cm.Blues_r\n",
    "cmap.set_bad('black',1.)#This and above line necessary for setting nans to black. Not sure what the 1. is. Can include colormap in main plot line otherwise\n",
    "plt.imshow(Mean, interpolation='none',vmin=0, cmap=cmap, vmax=100) #vmin=70, vmax=100 # cmap='Blues_r',\n",
    "plt.colorbar()\n",
    "#plt.title('SIC '+file_list2[k][31:39]); #K-1 because of indexing starting at 0. Otherwise titles from 2nd date\n",
    "plt.title('February')\n",
    "plt.axis('off')\n",
    "\n",
    "\n",
    "plt.savefig(outpath+'MonthSIC_February'+'.jpg')#The -4 omits the tif part from file name for jpeg\n",
    "plt.close() #try to stop printing all in notebook\n"
   ]
  },
  {
   "cell_type": "code",
   "execution_count": 42,
   "metadata": {},
   "outputs": [
    {
     "name": "stderr",
     "output_type": "stream",
     "text": [
      "/Users/gjmacdonald/opt/anaconda3/envs/my_env/lib/python3.7/site-packages/ipykernel_launcher.py:22: MatplotlibDeprecationWarning: You are modifying the state of a globally registered colormap. In future versions, you will not be able to modify a registered colormap in-place. To remove this warning, you can make a copy of the colormap first. cmap = copy.copy(mpl.cm.get_cmap(\"Blues_r\"))\n"
     ]
    }
   ],
   "source": [
    "month = np.zeros(shape=(261,498))\n",
    "count = 0\n",
    "\n",
    "for k in days: #range(len(days)):\n",
    "    if file_list2[k][35:37] == '03': #35 to 37 is where the month is in filename\n",
    "        count += 1\n",
    "        #print(count)\n",
    "        #print ('This is November')\n",
    "        #print(file_list2[k])\n",
    "        #print(k)\n",
    "        image = Image.open(path + file_list2[(days[k])]) #Cycles through file list. 0-1 because index starts at 0 \n",
    "        Y = np.array(image)\n",
    "        Y = Y.astype(\"float\") #Necessary to convert to Nan\n",
    "        Y[Y == 255] = np.nan #Convert nodata to NaN\n",
    "        Z = Y/2 \n",
    "        month += Z\n",
    "        #image = Image.open(path + file_list2[(days[k])]) #Cycles through file list. 0-1 because index starts at 0\n",
    "Mean = month/count\n",
    "\n",
    "plt.figure(figsize=(10,10), dpi= 300)\n",
    "cmap = mpl.cm.Blues_r\n",
    "cmap.set_bad('black',1.)#This and above line necessary for setting nans to black. Not sure what the 1. is. Can include colormap in main plot line otherwise\n",
    "plt.imshow(Mean, interpolation='none',vmin=0, cmap=cmap, vmax=100) #vmin=70, vmax=100 # cmap='Blues_r',\n",
    "plt.colorbar()\n",
    "#plt.title('SIC '+file_list2[k][31:39]); #K-1 because of indexing starting at 0. Otherwise titles from 2nd date\n",
    "plt.title('March')\n",
    "plt.axis('off')\n",
    "\n",
    "\n",
    "plt.savefig(outpath+'MonthSIC_March'+'.jpg')#The -4 omits the tif part from file name for jpeg\n",
    "plt.close() #try to stop printing all in notebook\n"
   ]
  },
  {
   "cell_type": "code",
   "execution_count": 43,
   "metadata": {},
   "outputs": [
    {
     "name": "stderr",
     "output_type": "stream",
     "text": [
      "/Users/gjmacdonald/opt/anaconda3/envs/my_env/lib/python3.7/site-packages/ipykernel_launcher.py:22: MatplotlibDeprecationWarning: You are modifying the state of a globally registered colormap. In future versions, you will not be able to modify a registered colormap in-place. To remove this warning, you can make a copy of the colormap first. cmap = copy.copy(mpl.cm.get_cmap(\"Blues_r\"))\n"
     ]
    }
   ],
   "source": [
    "month = np.zeros(shape=(261,498))\n",
    "count = 0\n",
    "\n",
    "for k in days: #range(len(days)):\n",
    "    if file_list2[k][35:37] == '04': #35 to 37 is where the month is in filename\n",
    "        count += 1\n",
    "        #print(count)\n",
    "        #print ('This is November')\n",
    "        #print(file_list2[k])\n",
    "        #print(k)\n",
    "        image = Image.open(path + file_list2[(days[k])]) #Cycles through file list. 0-1 because index starts at 0 \n",
    "        Y = np.array(image)\n",
    "        Y = Y.astype(\"float\") #Necessary to convert to Nan\n",
    "        Y[Y == 255] = np.nan #Convert nodata to NaN\n",
    "        Z = Y/2 \n",
    "        month += Z\n",
    "        #image = Image.open(path + file_list2[(days[k])]) #Cycles through file list. 0-1 because index starts at 0\n",
    "Mean = month/count\n",
    "\n",
    "plt.figure(figsize=(10,10), dpi= 300)\n",
    "cmap = mpl.cm.Blues_r\n",
    "cmap.set_bad('black',1.)#This and above line necessary for setting nans to black. Not sure what the 1. is. Can include colormap in main plot line otherwise\n",
    "plt.imshow(Mean, interpolation='none',vmin=0, cmap=cmap, vmax=100) #vmin=70, vmax=100 # cmap='Blues_r',\n",
    "plt.colorbar()\n",
    "#plt.title('SIC '+file_list2[k][31:39]); #K-1 because of indexing starting at 0. Otherwise titles from 2nd date\n",
    "plt.title('April')\n",
    "plt.axis('off')\n",
    "\n",
    "\n",
    "plt.savefig(outpath+'MonthSIC_April'+'.jpg')#The -4 omits the tif part from file name for jpeg\n",
    "plt.close() #try to stop printing all in notebook\n"
   ]
  },
  {
   "cell_type": "code",
   "execution_count": 44,
   "metadata": {},
   "outputs": [
    {
     "name": "stderr",
     "output_type": "stream",
     "text": [
      "/Users/gjmacdonald/opt/anaconda3/envs/my_env/lib/python3.7/site-packages/ipykernel_launcher.py:22: MatplotlibDeprecationWarning: You are modifying the state of a globally registered colormap. In future versions, you will not be able to modify a registered colormap in-place. To remove this warning, you can make a copy of the colormap first. cmap = copy.copy(mpl.cm.get_cmap(\"Blues_r\"))\n"
     ]
    }
   ],
   "source": [
    "month = np.zeros(shape=(261,498))\n",
    "count = 0\n",
    "\n",
    "for k in days: #range(len(days)):\n",
    "    if file_list2[k][35:37] == '05': #35 to 37 is where the month is in filename\n",
    "        count += 1\n",
    "        #print(count)\n",
    "        #print ('This is November')\n",
    "        #print(file_list2[k])\n",
    "        #print(k)\n",
    "        image = Image.open(path + file_list2[(days[k])]) #Cycles through file list. 0-1 because index starts at 0 \n",
    "        Y = np.array(image)\n",
    "        Y = Y.astype(\"float\") #Necessary to convert to Nan\n",
    "        Y[Y == 255] = np.nan #Convert nodata to NaN\n",
    "        Z = Y/2 \n",
    "        month += Z\n",
    "        #image = Image.open(path + file_list2[(days[k])]) #Cycles through file list. 0-1 because index starts at 0\n",
    "Mean = month/count\n",
    "\n",
    "plt.figure(figsize=(10,10), dpi= 300)\n",
    "cmap = mpl.cm.Blues_r\n",
    "cmap.set_bad('black',1.)#This and above line necessary for setting nans to black. Not sure what the 1. is. Can include colormap in main plot line otherwise\n",
    "plt.imshow(Mean, interpolation='none',vmin=0, cmap=cmap, vmax=100) #vmin=70, vmax=100 # cmap='Blues_r',\n",
    "plt.colorbar()\n",
    "#plt.title('SIC '+file_list2[k][31:39]); #K-1 because of indexing starting at 0. Otherwise titles from 2nd date\n",
    "plt.title('May')\n",
    "plt.axis('off')\n",
    "\n",
    "\n",
    "plt.savefig(outpath+'MonthSIC_May'+'.jpg')#The -4 omits the tif part from file name for jpeg\n",
    "plt.close() #try to stop printing all in notebook\n"
   ]
  },
  {
   "cell_type": "code",
   "execution_count": 45,
   "metadata": {},
   "outputs": [
    {
     "name": "stderr",
     "output_type": "stream",
     "text": [
      "/Users/gjmacdonald/opt/anaconda3/envs/my_env/lib/python3.7/site-packages/ipykernel_launcher.py:22: MatplotlibDeprecationWarning: You are modifying the state of a globally registered colormap. In future versions, you will not be able to modify a registered colormap in-place. To remove this warning, you can make a copy of the colormap first. cmap = copy.copy(mpl.cm.get_cmap(\"Blues_r\"))\n"
     ]
    }
   ],
   "source": [
    "month = np.zeros(shape=(261,498))\n",
    "count = 0\n",
    "\n",
    "for k in days: #range(len(days)):\n",
    "    if file_list2[k][35:37] == '06': #35 to 37 is where the month is in filename\n",
    "        count += 1\n",
    "        #print(count)\n",
    "        #print ('This is November')\n",
    "        #print(file_list2[k])\n",
    "        #print(k)\n",
    "        image = Image.open(path + file_list2[(days[k])]) #Cycles through file list. 0-1 because index starts at 0 \n",
    "        Y = np.array(image)\n",
    "        Y = Y.astype(\"float\") #Necessary to convert to Nan\n",
    "        Y[Y == 255] = np.nan #Convert nodata to NaN\n",
    "        Z = Y/2 \n",
    "        month += Z\n",
    "        #image = Image.open(path + file_list2[(days[k])]) #Cycles through file list. 0-1 because index starts at 0\n",
    "Mean = month/count\n",
    "\n",
    "plt.figure(figsize=(10,10), dpi= 300)\n",
    "cmap = mpl.cm.Blues_r\n",
    "cmap.set_bad('black',1.)#This and above line necessary for setting nans to black. Not sure what the 1. is. Can include colormap in main plot line otherwise\n",
    "plt.imshow(Mean, interpolation='none',vmin=0, cmap=cmap, vmax=100) #vmin=70, vmax=100 # cmap='Blues_r',\n",
    "plt.colorbar()\n",
    "#plt.title('SIC '+file_list2[k][31:39]); #K-1 because of indexing starting at 0. Otherwise titles from 2nd date\n",
    "plt.title('June')\n",
    "plt.axis('off')\n",
    "\n",
    "\n",
    "plt.savefig(outpath+'MonthSIC_June'+'.jpg')#The -4 omits the tif part from file name for jpeg\n",
    "plt.close() #try to stop printing all in notebook\n"
   ]
  },
  {
   "cell_type": "code",
   "execution_count": 46,
   "metadata": {},
   "outputs": [
    {
     "name": "stderr",
     "output_type": "stream",
     "text": [
      "/Users/gjmacdonald/opt/anaconda3/envs/my_env/lib/python3.7/site-packages/ipykernel_launcher.py:22: MatplotlibDeprecationWarning: You are modifying the state of a globally registered colormap. In future versions, you will not be able to modify a registered colormap in-place. To remove this warning, you can make a copy of the colormap first. cmap = copy.copy(mpl.cm.get_cmap(\"Blues_r\"))\n"
     ]
    }
   ],
   "source": [
    "month = np.zeros(shape=(261,498))\n",
    "count = 0\n",
    "\n",
    "for k in days: #range(len(days)):\n",
    "    if file_list2[k][35:37] == '07': #35 to 37 is where the month is in filename\n",
    "        count += 1\n",
    "        #print(count)\n",
    "        #print ('This is November')\n",
    "        #print(file_list2[k])\n",
    "        #print(k)\n",
    "        image = Image.open(path + file_list2[(days[k])]) #Cycles through file list. 0-1 because index starts at 0 \n",
    "        Y = np.array(image)\n",
    "        Y = Y.astype(\"float\") #Necessary to convert to Nan\n",
    "        Y[Y == 255] = np.nan #Convert nodata to NaN\n",
    "        Z = Y/2 \n",
    "        month += Z\n",
    "        #image = Image.open(path + file_list2[(days[k])]) #Cycles through file list. 0-1 because index starts at 0\n",
    "Mean = month/count\n",
    "\n",
    "plt.figure(figsize=(10,10), dpi= 300)\n",
    "cmap = mpl.cm.Blues_r\n",
    "cmap.set_bad('black',1.)#This and above line necessary for setting nans to black. Not sure what the 1. is. Can include colormap in main plot line otherwise\n",
    "plt.imshow(Mean, interpolation='none',vmin=0, cmap=cmap, vmax=100) #vmin=70, vmax=100 # cmap='Blues_r',\n",
    "plt.colorbar()\n",
    "#plt.title('SIC '+file_list2[k][31:39]); #K-1 because of indexing starting at 0. Otherwise titles from 2nd date\n",
    "plt.title('July')\n",
    "plt.axis('off')\n",
    "\n",
    "\n",
    "plt.savefig(outpath+'MonthSIC_July'+'.jpg')#The -4 omits the tif part from file name for jpeg\n",
    "plt.close() #try to stop printing all in notebook\n"
   ]
  },
  {
   "cell_type": "code",
   "execution_count": 47,
   "metadata": {},
   "outputs": [
    {
     "name": "stderr",
     "output_type": "stream",
     "text": [
      "/Users/gjmacdonald/opt/anaconda3/envs/my_env/lib/python3.7/site-packages/ipykernel_launcher.py:22: MatplotlibDeprecationWarning: You are modifying the state of a globally registered colormap. In future versions, you will not be able to modify a registered colormap in-place. To remove this warning, you can make a copy of the colormap first. cmap = copy.copy(mpl.cm.get_cmap(\"Blues_r\"))\n"
     ]
    }
   ],
   "source": [
    "month = np.zeros(shape=(261,498))\n",
    "count = 0\n",
    "\n",
    "for k in days: #range(len(days)):\n",
    "    if file_list2[k][35:37] == '08': #35 to 37 is where the month is in filename\n",
    "        count += 1\n",
    "        #print(count)\n",
    "        #print ('This is November')\n",
    "        #print(file_list2[k])\n",
    "        #print(k)\n",
    "        image = Image.open(path + file_list2[(days[k])]) #Cycles through file list. 0-1 because index starts at 0 \n",
    "        Y = np.array(image)\n",
    "        Y = Y.astype(\"float\") #Necessary to convert to Nan\n",
    "        Y[Y == 255] = np.nan #Convert nodata to NaN\n",
    "        Z = Y/2 \n",
    "        month += Z\n",
    "        #image = Image.open(path + file_list2[(days[k])]) #Cycles through file list. 0-1 because index starts at 0\n",
    "Mean = month/count\n",
    "\n",
    "plt.figure(figsize=(10,10), dpi= 300)\n",
    "cmap = mpl.cm.Blues_r\n",
    "cmap.set_bad('black',1.)#This and above line necessary for setting nans to black. Not sure what the 1. is. Can include colormap in main plot line otherwise\n",
    "plt.imshow(Mean, interpolation='none',vmin=0, cmap=cmap, vmax=100) #vmin=70, vmax=100 # cmap='Blues_r',\n",
    "plt.colorbar()\n",
    "plt.title('August')\n",
    "plt.axis('off')\n",
    "\n",
    "\n",
    "plt.savefig(outpath+'MonthSIC_August'+'.jpg')#The -4 omits the tif part from file name for jpeg\n",
    "plt.close() #try to stop printing all in notebook\n"
   ]
  },
  {
   "cell_type": "code",
   "execution_count": 57,
   "metadata": {},
   "outputs": [
    {
     "name": "stdout",
     "output_type": "stream",
     "text": [
      "6588615.483193278\n"
     ]
    },
    {
     "name": "stderr",
     "output_type": "stream",
     "text": [
      "/Users/gjmacdonald/opt/anaconda3/envs/my_env/lib/python3.7/site-packages/ipykernel_launcher.py:24: MatplotlibDeprecationWarning: You are modifying the state of a globally registered colormap. In future versions, you will not be able to modify a registered colormap in-place. To remove this warning, you can make a copy of the colormap first. cmap = copy.copy(mpl.cm.get_cmap(\"Blues_r\"))\n"
     ]
    }
   ],
   "source": [
    "month = np.zeros(shape=(261,498))\n",
    "count = 0\n",
    "\n",
    "for k in days: #range(len(days)):\n",
    "    if file_list2[k][35:37] == '09': #35 to 37 is where the month is in filename\n",
    "        count += 1\n",
    "        #print(count)\n",
    "        #print ('This is November')\n",
    "        #print(file_list2[k])\n",
    "        #print(k)\n",
    "        image = Image.open(path + file_list2[(days[k])]) #Cycles through file list. 0-1 because index starts at 0 \n",
    "        Y = np.array(image)\n",
    "        Y = Y.astype(\"float\") #Necessary to convert to Nan\n",
    "        Y[Y == 255] = np.nan #Convert nodata to NaN\n",
    "        Z = Y/2 \n",
    "        month += Z\n",
    "        #image = Image.open(path + file_list2[(days[k])]) #Cycles through file list. 0-1 because index starts at 0\n",
    "Mean = month/count\n",
    "print(np.nansum(Mean))\n",
    "\n",
    "\n",
    "plt.figure(figsize=(10,10), dpi= 300)\n",
    "cmap = mpl.cm.Blues_r\n",
    "cmap.set_bad('black',1.)#This and above line necessary for setting nans to black. Not sure what the 1. is. Can include colormap in main plot line otherwise\n",
    "plt.imshow(Mean, interpolation='none',vmin=0, cmap=cmap, vmax=100) #vmin=70, vmax=100 # cmap='Blues_r',\n",
    "plt.colorbar()\n",
    "plt.title('September')\n",
    "plt.axis('off')\n",
    "\n",
    "\n",
    "#plt.savefig(outpath+'MonthSIC_Sep'+'.jpg')#The -4 omits the tif part from file name for jpeg\n",
    "plt.close() #try to stop printing all in notebook"
   ]
  },
  {
   "cell_type": "code",
   "execution_count": 49,
   "metadata": {},
   "outputs": [
    {
     "name": "stderr",
     "output_type": "stream",
     "text": [
      "/Users/gjmacdonald/opt/anaconda3/envs/my_env/lib/python3.7/site-packages/ipykernel_launcher.py:22: MatplotlibDeprecationWarning: You are modifying the state of a globally registered colormap. In future versions, you will not be able to modify a registered colormap in-place. To remove this warning, you can make a copy of the colormap first. cmap = copy.copy(mpl.cm.get_cmap(\"Blues_r\"))\n"
     ]
    }
   ],
   "source": [
    "month = np.zeros(shape=(261,498))\n",
    "count = 0\n",
    "\n",
    "for k in days: #range(len(days)):\n",
    "    if file_list2[k][35:37] == '10': #35 to 37 is where the month is in filename\n",
    "        count += 1\n",
    "        #print(count)\n",
    "        #print ('This is November')\n",
    "        #print(file_list2[k])\n",
    "        #print(k)\n",
    "        image = Image.open(path + file_list2[(days[k])]) #Cycles through file list. 0-1 because index starts at 0 \n",
    "        Y = np.array(image)\n",
    "        Y = Y.astype(\"float\") #Necessary to convert to Nan\n",
    "        Y[Y == 255] = np.nan #Convert nodata to NaN\n",
    "        Z = Y/2 \n",
    "        month += Z\n",
    "        #image = Image.open(path + file_list2[(days[k])]) #Cycles through file list. 0-1 because index starts at 0\n",
    "Mean = month/count\n",
    "\n",
    "plt.figure(figsize=(10,10), dpi= 300)\n",
    "cmap = mpl.cm.Blues_r\n",
    "cmap.set_bad('black',1.)#This and above line necessary for setting nans to black. Not sure what the 1. is. Can include colormap in main plot line otherwise\n",
    "plt.imshow(Mean, interpolation='none',vmin=0, cmap=cmap, vmax=100) #vmin=70, vmax=100 # cmap='Blues_r',\n",
    "plt.colorbar()\n",
    "plt.title('October')\n",
    "plt.axis('off')\n",
    "\n",
    "\n",
    "plt.savefig(outpath+'MonthSIC_Oct'+'.jpg')#The -4 omits the tif part from file name for jpeg\n",
    "plt.close() #try to stop printing all in notebook"
   ]
  },
  {
   "cell_type": "code",
   "execution_count": 50,
   "metadata": {},
   "outputs": [
    {
     "name": "stderr",
     "output_type": "stream",
     "text": [
      "/Users/gjmacdonald/opt/anaconda3/envs/my_env/lib/python3.7/site-packages/ipykernel_launcher.py:24: MatplotlibDeprecationWarning: You are modifying the state of a globally registered colormap. In future versions, you will not be able to modify a registered colormap in-place. To remove this warning, you can make a copy of the colormap first. cmap = copy.copy(mpl.cm.get_cmap(\"Blues_r\"))\n"
     ]
    }
   ],
   "source": [
    "## NOVEMBER\n",
    "\n",
    "month = np.zeros(shape=(261,498))\n",
    "count = 0\n",
    "\n",
    "for k in days: #range(len(days)):\n",
    "    if file_list2[k][35:37] == '11': #35 to 37 is where the month is in filename\n",
    "        count += 1\n",
    "        #print(count)\n",
    "        #print ('This is November')\n",
    "        #print(file_list2[k])\n",
    "        #print(k)\n",
    "        image = Image.open(path + file_list2[(days[k])]) #Cycles through file list. 0-1 because index starts at 0 \n",
    "        Y = np.array(image)\n",
    "        Y = Y.astype(\"float\") #Necessary to convert to Nan\n",
    "        Y[Y == 255] = np.nan #Convert nodata to NaN\n",
    "        Z = Y/2 \n",
    "        month += Z\n",
    "        #image = Image.open(path + file_list2[(days[k])]) #Cycles through file list. 0-1 because index starts at 0\n",
    "Mean = month/count\n",
    "\n",
    "plt.figure(figsize=(10,10), dpi= 300)\n",
    "cmap = mpl.cm.Blues_r\n",
    "cmap.set_bad('black',1.)#This and above line necessary for setting nans to black. Not sure what the 1. is. Can include colormap in main plot line otherwise\n",
    "plt.imshow(Mean, interpolation='none',vmin=0, cmap=cmap, vmax=100) #vmin=70, vmax=100 # cmap='Blues_r',\n",
    "plt.colorbar()\n",
    "#plt.title('SIC '+file_list2[k][31:39]); #K-1 because of indexing starting at 0. Otherwise titles from 2nd date\n",
    "plt.title('November')\n",
    "plt.axis('off')\n",
    "\n",
    "\n",
    "plt.savefig(outpath+'MonthSIC_Nov'+'.jpg')#The -4 omits the tif part from file name for jpeg\n",
    "plt.close() #try to stop printing all in notebook\n",
    "\n"
   ]
  },
  {
   "cell_type": "code",
   "execution_count": 51,
   "metadata": {},
   "outputs": [
    {
     "name": "stderr",
     "output_type": "stream",
     "text": [
      "/Users/gjmacdonald/opt/anaconda3/envs/my_env/lib/python3.7/site-packages/ipykernel_launcher.py:24: MatplotlibDeprecationWarning: You are modifying the state of a globally registered colormap. In future versions, you will not be able to modify a registered colormap in-place. To remove this warning, you can make a copy of the colormap first. cmap = copy.copy(mpl.cm.get_cmap(\"Blues_r\"))\n"
     ]
    }
   ],
   "source": [
    "## DECEMBER\n",
    "\n",
    "month = np.zeros(shape=(261,498))\n",
    "count = 0\n",
    "\n",
    "for k in days: #range(len(days)):\n",
    "    if file_list2[k][35:37] == '12': #35 to 37 is where the month is in filename\n",
    "        count += 1\n",
    "        #print(count)\n",
    "        #print ('This is November')\n",
    "        #print(file_list2[k])\n",
    "        #print(k)\n",
    "        image = Image.open(path + file_list2[(days[k])]) #Cycles through file list. 0-1 because index starts at 0 \n",
    "        Y = np.array(image)\n",
    "        Y = Y.astype(\"float\") #Necessary to convert to Nan\n",
    "        Y[Y == 255] = np.nan #Convert nodata to NaN\n",
    "        Z = Y/2 \n",
    "        month += Z\n",
    "        #image = Image.open(path + file_list2[(days[k])]) #Cycles through file list. 0-1 because index starts at 0\n",
    "Mean = month/count\n",
    "\n",
    "plt.figure(figsize=(10,10), dpi= 300)\n",
    "cmap = mpl.cm.Blues_r\n",
    "cmap.set_bad('black',1.)#This and above line necessary for setting nans to black. Not sure what the 1. is. Can include colormap in main plot line otherwise\n",
    "plt.imshow(Mean, interpolation='none',vmin=0, cmap=cmap, vmax=100) #vmin=70, vmax=100 # cmap='Blues_r',\n",
    "plt.colorbar()\n",
    "#plt.title('SIC '+file_list2[k][31:39]); #K-1 because of indexing starting at 0. Otherwise titles from 2nd date\n",
    "plt.title('December')\n",
    "plt.axis('off')\n",
    "\n",
    "\n",
    "plt.savefig(outpath+'MonthSIC_Dec'+'.jpg')#The -4 omits the tif part from file name for jpeg\n",
    "plt.close() #try to stop printing all in notebo"
   ]
  },
  {
   "cell_type": "code",
   "execution_count": 53,
   "metadata": {},
   "outputs": [
    {
     "name": "stderr",
     "output_type": "stream",
     "text": [
      "/Users/gjmacdonald/opt/anaconda3/envs/my_env/lib/python3.7/site-packages/ipykernel_launcher.py:24: MatplotlibDeprecationWarning: You are modifying the state of a globally registered colormap. In future versions, you will not be able to modify a registered colormap in-place. To remove this warning, you can make a copy of the colormap first. cmap = copy.copy(mpl.cm.get_cmap(\"Blues_r\"))\n"
     ]
    }
   ],
   "source": [
    "## Again just to get colorbar\n",
    "\n",
    "month = np.zeros(shape=(261,498))\n",
    "count = 0\n",
    "\n",
    "for k in days: #range(len(days)):\n",
    "    if file_list2[k][35:37] == '12': #35 to 37 is where the month is in filename\n",
    "        count += 1\n",
    "        #print(count)\n",
    "        #print ('This is November')\n",
    "        #print(file_list2[k])\n",
    "        #print(k)\n",
    "        image = Image.open(path + file_list2[(days[k])]) #Cycles through file list. 0-1 because index starts at 0 \n",
    "        Y = np.array(image)\n",
    "        Y = Y.astype(\"float\") #Necessary to convert to Nan\n",
    "        Y[Y == 255] = np.nan #Convert nodata to NaN\n",
    "        Z = Y/2 \n",
    "        month += Z\n",
    "        #image = Image.open(path + file_list2[(days[k])]) #Cycles through file list. 0-1 because index starts at 0\n",
    "Mean = month/count\n",
    "\n",
    "plt.figure(figsize=(10,10), dpi= 300)\n",
    "cmap = mpl.cm.Blues_r\n",
    "cmap.set_bad('black',1.)#This and above line necessary for setting nans to black. Not sure what the 1. is. Can include colormap in main plot line otherwise\n",
    "plt.imshow(Mean, interpolation='none',vmin=0, cmap=cmap, vmax=100) #vmin=70, vmax=100 # cmap='Blues_r',\n",
    "plt.colorbar(orientation='horizontal')\n",
    "#plt.title('SIC '+file_list2[k][31:39]); #K-1 because of indexing starting at 0. Otherwise titles from 2nd date\n",
    "plt.title('December')\n",
    "plt.axis('off')\n",
    "\n",
    "\n",
    "plt.savefig(outpath+'COLORBAR'+'.jpg')#The -4 omits the tif part from file name for jpeg\n",
    "plt.close() #try to stop printing all in notebo"
   ]
  },
  {
   "cell_type": "code",
   "execution_count": null,
   "metadata": {},
   "outputs": [],
   "source": []
  }
 ],
 "metadata": {
  "kernelspec": {
   "display_name": "my_env",
   "language": "python",
   "name": "my_env"
  },
  "language_info": {
   "codemirror_mode": {
    "name": "ipython",
    "version": 3
   },
   "file_extension": ".py",
   "mimetype": "text/x-python",
   "name": "python",
   "nbconvert_exporter": "python",
   "pygments_lexer": "ipython3",
   "version": "3.7.7"
  }
 },
 "nbformat": 4,
 "nbformat_minor": 4
}
