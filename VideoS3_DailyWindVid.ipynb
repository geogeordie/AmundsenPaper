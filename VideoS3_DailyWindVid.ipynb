{
 "cells": [
  {
   "cell_type": "code",
   "execution_count": null,
   "metadata": {},
   "outputs": [],
   "source": [
    "#Script to open netcdf and plot\n",
    "from osgeo import gdal\n",
    "import numpy as np\n",
    "import matplotlib.pyplot as plt\n",
    "import cartopy #Instead of from mpl_toolkits.basemap import Basemap \"conda install -c conda-forge cartopy\"\n",
    "from netCDF4 import Dataset #\"conda install -c anaconda netcdf4\"\n",
    "import cartopy.crs as ccrs\n",
    "import cartopy.feature as cfeature\n",
    "\n",
    "\n",
    "path = '.nc'#Path to ERA5 wind file\n",
    "outpath = ''#outpath for jpgs\n",
    "\n",
    "#Wind speed sqrt(u^2 + v^2) - see ERA5 doca\n",
    "\n",
    "\n",
    "from mpl_toolkits.axes_grid1 import make_axes_locatable\n",
    "\n",
    "data = Dataset(path)"
   ]
  },
  {
   "cell_type": "code",
   "execution_count": null,
   "metadata": {},
   "outputs": [],
   "source": [
    "#Hourly to daily\n",
    "\n",
    "import xarray as xr                                                    # import xarray library. Necessary for daily\n",
    "\n",
    "lats = data.variables['latitude'][:] #these names comes from keys\n",
    "lons = data.variables['longitude'][:]\n",
    "time = data.variables['time'][:]\n",
    "#wind = data.variables['si10'][:,:,:] #wind\n",
    "#u = data.variables['u10'][:,:,:]\n",
    "#v = data.variables['v10'][:,:,:]\n",
    "#Extra steps to get daily from hourly data\n",
    "ds_nc = xr.open_dataset(path)                        # read the file for daily\n",
    "tp_daily = ds_nc.resample(time='D').mean(dim='time') # dimensions (time: 2, latitude: 721, longitude: 1440)\n",
    "u = tp_daily.variables['u10'][:,:,:]\n",
    "v = tp_daily.variables['v10'][:,:,:]\n",
    "\n",
    "u = u.values #Converts from pandas datafrome to numpy array. Because hourly to daily method makes df\n",
    "v = v.values #now recommend df.to_numpy() \n",
    "\n",
    "windspeed = np.sqrt(u**2 + v**2) #Wind speed sqrt(u^2 + v^2)"
   ]
  },
  {
   "cell_type": "code",
   "execution_count": null,
   "metadata": {},
   "outputs": [],
   "source": [
    "#Plot as daily jpgs\n",
    "\n",
    "days = np.arange(0,366) #30 days (Mar-Dec). No of days\n",
    "#note 2020 is a leap year. Mar1 is day 61\n",
    "\n",
    "for i in days:\n",
    "\n",
    "    \n",
    "    plt.figure(figsize=(10,10), dpi= 90)\n",
    "    ax = plt.axes(projection=ccrs.SouthPolarStereo(true_scale_latitude=-70))\n",
    "    theplot = plt.pcolormesh(lons,lats,windspeed[i,:,:],transform=ccrs.PlateCarree(),cmap = 'jet', vmin=0, vmax=14) #Set colorbar max/min\n",
    "    plt.quiver(lons, lats, u[i,:,:], v[i,:,:], pivot='middle', transform=ccrs.PlateCarree())\n",
    "\n",
    "    ax.coastlines()\n",
    "    ax.set_extent([-120, -106, -74.6, -72], ccrs.PlateCarree())\n",
    "    \n",
    "    DoY = i+1\n",
    "    plt.title('Wind Speed (m/s), 2020 Day of year: ' + str(DoY)) #Edit this number based on when data stars in year\n",
    "\n",
    "    cbar = plt.colorbar(theplot, shrink=0.75)\n",
    "\n",
    "    plt.savefig(outpath+str(DoY)+'.jpg')\n",
    "    "
   ]
  },
  {
   "cell_type": "code",
   "execution_count": null,
   "metadata": {},
   "outputs": [],
   "source": [
    "#Script to save collection of jpgs to a GIF. And a script to then convert that GIF to an mp4 if necessary.\n",
    "#Thank you to https://www.youtube.com/watch?v=dSv3-obKv3M\n",
    "from PIL import Image\n",
    "import numpy as np\n",
    "\n",
    "image_frames = []\n",
    "months = np.arange(1,367) \n",
    "\n",
    "jpegspath = outpath #DEFINE Path to folder -- same as outpath above here\n",
    "for k in months:\n",
    "    new_frame = Image.open(jpegspath + str(k) + '.jpg') #Here the images are 3-(March-) so need to add 2\n",
    "    image_frames.append(new_frame) #Append each image\n",
    "\n",
    "gifname = outpath+'.gif' #DEFINE name of gif to save. \n",
    "image_frames[0].save(gifname,format = 'gif', #\n",
    "                    append_images = image_frames[1:], #1 means second onwards\n",
    "                    save_all = True, duration = 250)#units is milliscenonds for each frame\n",
    "                     #1 means second onwards  loop = 0\n",
    "\n",
    "#Now make it a movie\n",
    "import moviepy.editor as mp #pip install MoviePy\n",
    "\n",
    "gifpath = outpath+'.gif' #DEFINE Path to where gif is stored\n",
    "clip = mp.VideoFileClip(gifpath) \n",
    "clip.write_videofile(outpath+\".mp4\") #DEFINE movie OUTPUT NAME and path\n"
   ]
  }
 ],
 "metadata": {
  "kernelspec": {
   "display_name": "my_env",
   "language": "python",
   "name": "my_env"
  },
  "language_info": {
   "codemirror_mode": {
    "name": "ipython",
    "version": 3
   },
   "file_extension": ".py",
   "mimetype": "text/x-python",
   "name": "python",
   "nbconvert_exporter": "python",
   "pygments_lexer": "ipython3",
   "version": "3.7.7"
  }
 },
 "nbformat": 4,
 "nbformat_minor": 4
}
