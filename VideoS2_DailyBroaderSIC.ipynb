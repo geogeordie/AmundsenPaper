{
 "cells": [
  {
   "cell_type": "code",
   "execution_count": null,
   "metadata": {},
   "outputs": [],
   "source": [
    "import os, fnmatch\n",
    "import numpy as np\n",
    "from PIL import Image\n",
    "import csv\n",
    "import matplotlib.pyplot as plt\n",
    "import matplotlib as mpl\n",
    "\n",
    "\n",
    "\n",
    "path = \"\" #Path to SIC files from Bremen, clipped to broader study area (Fig 1a)\n",
    "outputfolder = \"//\"#Path to save jpgs to\n",
    "\n",
    "image_frames = []\n",
    "days = np.arange(0,181) #Depends no. of images\n",
    "\n",
    "for k in days:\n",
    "    if k == days.shape[0]: #day.shape[0] gets the last index of shape, which breaks it. \n",
    "        break\n",
    "    image = Image.open(path + file_list2[(days[k])]) #Cycles through file list. 0-1 because index starts at 0 \n",
    "    Y = np.array(image)\n",
    "    Y = Y.astype(\"float\") #Necessary to convert to Nan\n",
    "    Y[Y == 255] = np.nan #Convert nodata to NaN\n",
    "    Z = Y/2 # Because SIC are doubled in this resolution of dataset\n",
    "    plt.figure(figsize=(10,10), dpi= 300)\n",
    "    cmap = mpl.cm.Blues_r\n",
    "    cmap.set_bad('black',1.)#This and above line necessary for setting nans to black. Not sure what the 1. is. Can include colormap in main plot line otherwise\n",
    "    plt.imshow(Z, interpolation='none',vmin=0, cmap=cmap, vmax=100) #vmin=70, vmax=100 # cmap='Blues_r',\n",
    "    plt.colorbar()\n",
    "    plt.title('SIC '+file_list2[k][31:39]); #K-1 because of indexing starting at 0. Otherwise titles from 2nd date\n",
    "    plt.savefig(outputfolder+file_list2[k][:-4]+'.jpg')#The -4 omits the tif part from file name for jpeg\n",
    "    plt.close() #try to stop printing all in notebook\n",
    "\n"
   ]
  },
  {
   "cell_type": "code",
   "execution_count": null,
   "metadata": {},
   "outputs": [],
   "source": [
    "##Make gif from JPGs\n",
    "\n",
    "import os\n",
    "from PIL import Image\n",
    "import numpy as np\n",
    "\n",
    "\n",
    "path = '//' #path to jpgs\n",
    "noOfImages = 366# change depending on no of images\n",
    "\n",
    "\n",
    "file_list2 = [x for x in sorted([x for x in os.listdir(path)])]\n",
    "thing = '.DS_Store' #Hidden file that occurs. \n",
    "while thing in file_list2: file_list2.remove(thing)\n",
    "#thing2 = '2020_SIC_PolynyaArea.csv' #ignore file\n",
    "#while thing2 in file_list2: file_list2.remove(thing2)\n",
    "\n",
    "image_frames = []\n",
    "days = np.arange(1,noOfImages) \n",
    "\n",
    "for k in days:\n",
    "    new_frame = Image.open(path + file_list2[(days[k-1])]) #Cycles through file list.  \n",
    "    image_frames.append(new_frame)\n",
    "\n",
    "gifname = path+'.gif' #DEFINE gif name\n",
    "image_frames[0].save(gifname,format = 'gif', #\n",
    "                    append_images = image_frames[1:], #1 means second onwards\n",
    "                    save_all = True, duration = 250)#units is milliscenonds for each frame 1000 would be one a second\n",
    "                     #1 means second onwards  loop = 0"
   ]
  },
  {
   "cell_type": "code",
   "execution_count": null,
   "metadata": {},
   "outputs": [],
   "source": [
    "##Convert gif to movie\n",
    "\n",
    "#CONVERT GIF TO MOVIE\n",
    "import moviepy.editor as mp #pip install MoviePy\n",
    "\n",
    "gifpath = '.gif' #DEFINE Path to where gif is stored. \n",
    "clip = mp.VideoFileClip(gifpath) \n",
    "clip.write_videofile('.mp4') #Define name and path for video output\n"
   ]
  }
 ],
 "metadata": {
  "kernelspec": {
   "display_name": "my_env",
   "language": "python",
   "name": "my_env"
  },
  "language_info": {
   "codemirror_mode": {
    "name": "ipython",
    "version": 3
   },
   "file_extension": ".py",
   "mimetype": "text/x-python",
   "name": "python",
   "nbconvert_exporter": "python",
   "pygments_lexer": "ipython3",
   "version": "3.7.7"
  }
 },
 "nbformat": 4,
 "nbformat_minor": 4
}
