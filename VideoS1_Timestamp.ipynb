{
 "cells": [
  {
   "cell_type": "code",
   "execution_count": null,
   "metadata": {},
   "outputs": [],
   "source": [
    "#Script to timestamp GEE video using video file and metadata\n",
    "\n",
    "#Help from\n",
    "#https://github.com/lengstrom/fast-style-transfer/issues/129 answer\n",
    "# https://www.geeksforgeeks.org/moviepy-inserting-text-in-the-video/?ref=lbp\n",
    "# https://stackoverflow.com/questions/28429005/create-a-series-of-text-clip-and-concatenate-them-into-a-video-using-moviepy\n",
    "# https://stackoverflow.com/questions/60699411/change-text-properties-frame-by-frame-efficiently-in-moviepy\n",
    "\n",
    "#Get dates\n",
    "\n",
    "with open('.csv') as f: #INSERT DATE FILE CSV PATH\n",
    "    list = [i.split(',')[0] for i in f.readlines()] #Get first colum (0), delineated by comma\n",
    "list = list[1:] #Get rid of header\n",
    "#print(list)\n",
    "\n",
    "list2 = [] #Extract dates\n",
    "for word in list:\n",
    "    date = word[17:25]\n",
    "    list2.append(date)\n",
    "#list2[::-1] other option for reverse\n",
    "list2.reverse() #reverse order of list\n",
    "#print(list2)\n",
    "\n",
    "#Remove duplicates so just have a list of dates\n",
    "list3 = []\n",
    "for word in list2:   #for each word in line.split()\n",
    "    if word not in list3:    #if a word isn't in line.split            \n",
    "        list3.append(word)\n",
    "print(list3)"
   ]
  },
  {
   "cell_type": "code",
   "execution_count": null,
   "metadata": {},
   "outputs": [],
   "source": [
    "## Stamp dates on video\n",
    "\n",
    "from moviepy.editor import *\n",
    "clip = VideoFileClip(\".mp4\")  #Path to video file\n",
    "\n",
    "text_list = list3  \n",
    "clip_list = []\n",
    "\n",
    "for text in text_list:\n",
    "    try:\n",
    "        txt_clip = TextClip(text, fontsize = 70, color = 'red').set_duration(0.5) #set_pos('center') set position if needed\n",
    "        clip_list.append(txt_clip)\n",
    "    except UnicodeEncodeError:\n",
    "        txt_clip = TextClip(\"Issue with text\", fontsize = 70, color = 'red').set_duration(0.5) #Duration of label. (so 1fps=1, 2fps=0.5)\n",
    "        clip_list.append(txt_clip)\n",
    "               \n",
    "datevideo = concatenate(clip_list, method = \"compose\")\n",
    "video2 = CompositeVideoClip([clip, datevideo])\n",
    "#Write video\n",
    "video2.write_videofile(\"_dated.mp4\", fps = 2, codec = 'libx264', bitrate=\"20000k\") #Set path to output.\n"
   ]
  }
 ],
 "metadata": {
  "kernelspec": {
   "display_name": "Python 3",
   "language": "python",
   "name": "python3"
  },
  "language_info": {
   "codemirror_mode": {
    "name": "ipython",
    "version": 3
   },
   "file_extension": ".py",
   "mimetype": "text/x-python",
   "name": "python",
   "nbconvert_exporter": "python",
   "pygments_lexer": "ipython3",
   "version": "3.8.5"
  }
 },
 "nbformat": 4,
 "nbformat_minor": 4
}
