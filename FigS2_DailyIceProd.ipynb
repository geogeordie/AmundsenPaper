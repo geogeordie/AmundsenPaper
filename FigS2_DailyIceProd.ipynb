{
 "cells": [
  {
   "cell_type": "code",
   "execution_count": null,
   "metadata": {},
   "outputs": [],
   "source": [
    "#Daily IceProduction \n",
    "from datetime import date, timedelta\n",
    "\n",
    "import matplotlib.pyplot as plt\n",
    "import numpy as np\n",
    "# https://matplotlib.org/stable/\n",
    "\n",
    "a = np.loadtxt('.txt',delimiter=',',skiprows=1) #Path to Daily Ice Production\n",
    "y2017 = a[31:,1] #The text file starts 1st March so here start in April. First col is day of year\n",
    "y2018 = a[31:,2]\n",
    "y2019 = a[31:,3]\n",
    "y2020 = a[31:,4]\n",
    "mean2017_20 = np.nanmean([y2017,y2018,y2019,y2020], axis=0)\n",
    "\n",
    "sdate = date(2019,4,1)   # start date. year is aarbitary cos plotting all on same xaxis\n",
    "edate = date(2019,11,1)\n",
    "day= pd.date_range(sdate,edate-timedelta(days=1),freq='d')\n",
    "\n",
    "fig = plt.figure(figsize=(13, 7), dpi=80)\n",
    "ax = plt.axes()\n",
    "ax.plot(day,y2017,label='2017')#,color='blue')\n",
    "ax.plot(day,y2018,label='2018')#,color='red')\n",
    "ax.plot(day,y2019,label='2019')#,color='green')\n",
    "ax.plot(day,y2020,label='2020')#,color='yellow')\n",
    "ax.plot(day,mean2017_20,'k--',label='Mean')\n",
    "\n",
    "import matplotlib.dates as mdates\n",
    "\n",
    "ax.xaxis.set_major_formatter(mdates.DateFormatter(\"%b-%d\"))#Change this  xaciss format\n",
    "ax.set_ylim(ymin=0)\n",
    "ax.set_xlim(xmin=day[0],xmax=day[213])#day[0] is first day of\n",
    "\n",
    "plt.xlabel('Date')\n",
    "plt.ylabel('Daily ice production ($km^3$)')\n",
    "plt.legend(frameon=False)\n",
    "\n",
    "fig.savefig('.jpg') #Path to save\n",
    "\n"
   ]
  }
 ],
 "metadata": {
  "kernelspec": {
   "display_name": "Python [conda env:my_env]",
   "language": "python",
   "name": "conda-env-my_env-py"
  },
  "language_info": {
   "codemirror_mode": {
    "name": "ipython",
    "version": 3
   },
   "file_extension": ".py",
   "mimetype": "text/x-python",
   "name": "python",
   "nbconvert_exporter": "python",
   "pygments_lexer": "ipython3",
   "version": "3.7.7"
  }
 },
 "nbformat": 4,
 "nbformat_minor": 4
}
